{
 "cells": [
  {
   "cell_type": "markdown",
   "metadata": {},
   "source": [
    "# <font color = 'brown'>  CREDIT EDA CASE STUDY </font>"
   ]
  },
  {
   "cell_type": "markdown",
   "metadata": {},
   "source": [
    "   ## APPLICATION_DATA\n",
    "   \n",
    "   This data is about whether a client has payment difficulties."
   ]
  },
  {
   "cell_type": "markdown",
   "metadata": {},
   "source": [
    "### READING THE DATASET"
   ]
  },
  {
   "cell_type": "code",
   "execution_count": null,
   "metadata": {
    "id": "mQho4Dwj1-Do"
   },
   "outputs": [],
   "source": [
    "# Importing the required libraries\n"
   ]
  },
  {
   "cell_type": "code",
   "execution_count": null,
   "metadata": {
    "id": "8cWUXlYJ2Hoz"
   },
   "outputs": [],
   "source": [
    "#Reading the dataset from local\n"
   ]
  },
  {
   "cell_type": "code",
   "execution_count": null,
   "metadata": {
    "colab": {
     "base_uri": "https://localhost:8080/"
    },
    "id": "A8ucAALC2VVV",
    "outputId": "8e92f231-dd55-434a-cf3d-00025c1a1994"
   },
   "outputs": [],
   "source": [
    "#Determining the shape of the dataset (return number of rows and columns in your data)\n"
   ]
  },
  {
   "cell_type": "code",
   "execution_count": null,
   "metadata": {},
   "outputs": [],
   "source": [
    "# check first 5 observations from my data\n"
   ]
  },
  {
   "cell_type": "code",
   "execution_count": null,
   "metadata": {
    "colab": {
     "base_uri": "https://localhost:8080/"
    },
    "id": "vfKEG_nrcORs",
    "outputId": "2e0c93bb-5197-4444-da80-af892ee0a98f"
   },
   "outputs": [],
   "source": [
    "#Identifying the variables/columns datatypes\n"
   ]
  },
  {
   "cell_type": "markdown",
   "metadata": {},
   "source": [
    "## Data Cleaning and Manipulation\n",
    " "
   ]
  },
  {
   "cell_type": "code",
   "execution_count": null,
   "metadata": {},
   "outputs": [],
   "source": [
    "# Remove duplicates"
   ]
  },
  {
   "cell_type": "code",
   "execution_count": null,
   "metadata": {
    "colab": {
     "base_uri": "https://localhost:8080/"
    },
    "id": "FJFcQtBzce-M",
    "outputId": "41848492-3073-49e6-ec0e-61af74e56dab"
   },
   "outputs": [],
   "source": [
    "# Checking null values/missing values in the data"
   ]
  },
  {
   "cell_type": "code",
   "execution_count": null,
   "metadata": {},
   "outputs": [],
   "source": [
    "#percentage of missing values in a column\n"
   ]
  },
  {
   "cell_type": "markdown",
   "metadata": {},
   "source": [
    "### Missing values treatment:\n",
    "1. Remove only missing observations  : <5%\n",
    "2. Remove entire column              : >30%\n",
    "3. Do imputation/replacement with mean,median/mode values: 5% to 30%"
   ]
  },
  {
   "cell_type": "code",
   "execution_count": null,
   "metadata": {
    "colab": {
     "base_uri": "https://localhost:8080/"
    },
    "id": "2R5HfYb8ctRU",
    "outputId": "6b42be28-fcc2-4ab4-8746-2e7ce915124c"
   },
   "outputs": [],
   "source": [
    "#Identify the columns having more than 30% of null values\n"
   ]
  },
  {
   "cell_type": "code",
   "execution_count": null,
   "metadata": {
    "colab": {
     "base_uri": "https://localhost:8080/"
    },
    "id": "nY5k7G-SgErz",
    "outputId": "a30e32a7-45b5-4dc1-e784-945bbf92568a"
   },
   "outputs": [],
   "source": [
    "#Remove the columns having more than 30% of null values\n"
   ]
  },
  {
   "cell_type": "code",
   "execution_count": null,
   "metadata": {
    "colab": {
     "base_uri": "https://localhost:8080/"
    },
    "id": "1Ejj_DQ3iIPb",
    "outputId": "e02c6bc2-9221-42be-adce-4bb84437c995"
   },
   "outputs": [],
   "source": [
    "#Check the existence of null values in the remaining data frame\n"
   ]
  },
  {
   "cell_type": "code",
   "execution_count": null,
   "metadata": {
    "colab": {
     "base_uri": "https://localhost:8080/",
     "height": 280
    },
    "id": "q2caHdk5kQOs",
    "outputId": "521245ce-05d7-440e-e0ae-40ae18222856"
   },
   "outputs": [],
   "source": [
    "#plot boxplot to identify outliers ('AMT_ANNUITY')\n"
   ]
  },
  {
   "cell_type": "code",
   "execution_count": null,
   "metadata": {
    "id": "7b4dCV9NkeVd"
   },
   "outputs": [],
   "source": [
    "#calculating median and replace null values with median\n"
   ]
  },
  {
   "cell_type": "code",
   "execution_count": null,
   "metadata": {},
   "outputs": [],
   "source": [
    "# removing missing observations from your data\n"
   ]
  },
  {
   "cell_type": "markdown",
   "metadata": {},
   "source": [
    "### **CHECKING  THE DATATYPE OF  THE  COLUMN**"
   ]
  },
  {
   "cell_type": "code",
   "execution_count": null,
   "metadata": {
    "colab": {
     "base_uri": "https://localhost:8080/"
    },
    "id": "KbOEfgkDoSmD",
    "outputId": "4ddc92c8-415f-4978-e5a7-5eb682dbca3b"
   },
   "outputs": [],
   "source": []
  },
  {
   "cell_type": "markdown",
   "metadata": {
    "id": "l1JI6c8UpElr"
   },
   "source": [
    "**Verifying if the object type columns are of correct, if these columns are incorrect we will fix them first before our analysis**"
   ]
  },
  {
   "cell_type": "markdown",
   "metadata": {
    "id": "Fr0U-D3fuuir"
   },
   "source": [
    "**Since we have cleaned the data set and handled the missing values, we will start our analysis**\n"
   ]
  },
  {
   "cell_type": "code",
   "execution_count": null,
   "metadata": {},
   "outputs": [],
   "source": []
  },
  {
   "cell_type": "code",
   "execution_count": null,
   "metadata": {},
   "outputs": [],
   "source": []
  },
  {
   "cell_type": "markdown",
   "metadata": {},
   "source": [
    "### **CHECKING  THE OUTLIERS**"
   ]
  },
  {
   "cell_type": "code",
   "execution_count": null,
   "metadata": {},
   "outputs": [],
   "source": []
  }
 ],
 "metadata": {
  "colab": {
   "collapsed_sections": [],
   "name": "EDA Case Study.ipynb",
   "provenance": []
  },
  "kernelspec": {
   "display_name": "Python 3 (ipykernel)",
   "language": "python",
   "name": "python3"
  },
  "language_info": {
   "codemirror_mode": {
    "name": "ipython",
    "version": 3
   },
   "file_extension": ".py",
   "mimetype": "text/x-python",
   "name": "python",
   "nbconvert_exporter": "python",
   "pygments_lexer": "ipython3",
   "version": "3.9.13"
  }
 },
 "nbformat": 4,
 "nbformat_minor": 1
}
